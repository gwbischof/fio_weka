{
 "cells": [
  {
   "cell_type": "code",
   "execution_count": 1,
   "metadata": {},
   "outputs": [],
   "source": [
    "root = '/home/gbischof/dama/fio_weka/'\n",
    "files = ['garrett_all_jobs', 'garrett_all_jobs_12nodes', \n",
    "         'nsls2_bm_nossd', 'nsls2_bm_nossd2', 'nsls2_bm_ssd',\n",
    "         'nsls2_CENTRAL_nossd', 'nsls2_CENTRAL_ssd']"
   ]
  },
  {
   "cell_type": "code",
   "execution_count": 16,
   "metadata": {},
   "outputs": [],
   "source": [
    "from collections import defaultdict\n",
    "\n",
    "def parse_benchmark_files(root, files):\n",
    "    results = {}\n",
    "    for file in files:\n",
    "        results[file] = parse_benchmark_file(root + file)\n",
    "    return results\n",
    "\n",
    "def parse_benchmark_file(file):\n",
    "    results = defaultdict(lambda: list())\n",
    "    with open(file) as benchmark:\n",
    "        for n in range(10):\n",
    "            benchmark = 1\n",
    "            result = parse_benchmark(benchmark)\n",
    "            results['n'].append(1)\n",
    "            for key, value in result.items():\n",
    "                results[key].append(value)\n",
    "    return results\n",
    "\n",
    "def parse_benchmark(benchmark):\n",
    "\n",
    "    # Test 1\n",
    "    test1 = {'iops_average': 1,\n",
    "             'iops_total': 1}\n",
    "    \n",
    "    # Test 2\n",
    "    test2 = {'bandwidth_average': 1,\n",
    "             'bandwidth_total': 1}\n",
    "    \n",
    "    # Test 3\n",
    "    test3 = {'latency': 1}\n",
    "    \n",
    "    # Test 4\n",
    "    test4 = {'detector_read_bw_average': 1,\n",
    "             'detector_read_bw_total': 1,\n",
    "             'detector_read_iops': 1}\n",
    "    \n",
    "    # Test 5\n",
    "    test5 = {'detector_rw_read_bw_average': 1,\n",
    "             'detector_rw_read_bw_total': 1,\n",
    "             'detector_rw_write_bw_average': 1,\n",
    "             'detector_rw_write_bw_total': 1,\n",
    "             'detector_rw_iops': 1}\n",
    "        \n",
    "    return {**test1, **test2, **test3, **test4, **test5}"
   ]
  },
  {
   "cell_type": "code",
   "execution_count": 17,
   "metadata": {},
   "outputs": [
    {
     "name": "stdout",
     "output_type": "stream",
     "text": [
      "{'garrett_all_jobs': defaultdict(<function parse_benchmark_file.<locals>.<lambda> at 0x7ff7634df950>, {'n': [1, 1, 1, 1, 1, 1, 1, 1, 1, 1], 'iops_average': [1, 1, 1, 1, 1, 1, 1, 1, 1, 1], 'iops_total': [1, 1, 1, 1, 1, 1, 1, 1, 1, 1], 'bandwidth_average': [1, 1, 1, 1, 1, 1, 1, 1, 1, 1], 'bandwidth_total': [1, 1, 1, 1, 1, 1, 1, 1, 1, 1], 'latency': [1, 1, 1, 1, 1, 1, 1, 1, 1, 1], 'detector_read_bw_average': [1, 1, 1, 1, 1, 1, 1, 1, 1, 1], 'detector_read_bw_total': [1, 1, 1, 1, 1, 1, 1, 1, 1, 1], 'detector_read_iops': [1, 1, 1, 1, 1, 1, 1, 1, 1, 1], 'detector_rw_read_bw_average': [1, 1, 1, 1, 1, 1, 1, 1, 1, 1], 'detector_rw_read_bw_total': [1, 1, 1, 1, 1, 1, 1, 1, 1, 1], 'detector_rw_write_bw_average': [1, 1, 1, 1, 1, 1, 1, 1, 1, 1], 'detector_rw_write_bw_total': [1, 1, 1, 1, 1, 1, 1, 1, 1, 1], 'detector_rw_iops': [1, 1, 1, 1, 1, 1, 1, 1, 1, 1]}), 'garrett_all_jobs_12nodes': defaultdict(<function parse_benchmark_file.<locals>.<lambda> at 0x7ff7634dfb90>, {'n': [1, 1, 1, 1, 1, 1, 1, 1, 1, 1], 'iops_average': [1, 1, 1, 1, 1, 1, 1, 1, 1, 1], 'iops_total': [1, 1, 1, 1, 1, 1, 1, 1, 1, 1], 'bandwidth_average': [1, 1, 1, 1, 1, 1, 1, 1, 1, 1], 'bandwidth_total': [1, 1, 1, 1, 1, 1, 1, 1, 1, 1], 'latency': [1, 1, 1, 1, 1, 1, 1, 1, 1, 1], 'detector_read_bw_average': [1, 1, 1, 1, 1, 1, 1, 1, 1, 1], 'detector_read_bw_total': [1, 1, 1, 1, 1, 1, 1, 1, 1, 1], 'detector_read_iops': [1, 1, 1, 1, 1, 1, 1, 1, 1, 1], 'detector_rw_read_bw_average': [1, 1, 1, 1, 1, 1, 1, 1, 1, 1], 'detector_rw_read_bw_total': [1, 1, 1, 1, 1, 1, 1, 1, 1, 1], 'detector_rw_write_bw_average': [1, 1, 1, 1, 1, 1, 1, 1, 1, 1], 'detector_rw_write_bw_total': [1, 1, 1, 1, 1, 1, 1, 1, 1, 1], 'detector_rw_iops': [1, 1, 1, 1, 1, 1, 1, 1, 1, 1]}), 'nsls2_bm_nossd': defaultdict(<function parse_benchmark_file.<locals>.<lambda> at 0x7ff778f268c0>, {'n': [1, 1, 1, 1, 1, 1, 1, 1, 1, 1], 'iops_average': [1, 1, 1, 1, 1, 1, 1, 1, 1, 1], 'iops_total': [1, 1, 1, 1, 1, 1, 1, 1, 1, 1], 'bandwidth_average': [1, 1, 1, 1, 1, 1, 1, 1, 1, 1], 'bandwidth_total': [1, 1, 1, 1, 1, 1, 1, 1, 1, 1], 'latency': [1, 1, 1, 1, 1, 1, 1, 1, 1, 1], 'detector_read_bw_average': [1, 1, 1, 1, 1, 1, 1, 1, 1, 1], 'detector_read_bw_total': [1, 1, 1, 1, 1, 1, 1, 1, 1, 1], 'detector_read_iops': [1, 1, 1, 1, 1, 1, 1, 1, 1, 1], 'detector_rw_read_bw_average': [1, 1, 1, 1, 1, 1, 1, 1, 1, 1], 'detector_rw_read_bw_total': [1, 1, 1, 1, 1, 1, 1, 1, 1, 1], 'detector_rw_write_bw_average': [1, 1, 1, 1, 1, 1, 1, 1, 1, 1], 'detector_rw_write_bw_total': [1, 1, 1, 1, 1, 1, 1, 1, 1, 1], 'detector_rw_iops': [1, 1, 1, 1, 1, 1, 1, 1, 1, 1]}), 'nsls2_bm_nossd2': defaultdict(<function parse_benchmark_file.<locals>.<lambda> at 0x7ff763955c20>, {'n': [1, 1, 1, 1, 1, 1, 1, 1, 1, 1], 'iops_average': [1, 1, 1, 1, 1, 1, 1, 1, 1, 1], 'iops_total': [1, 1, 1, 1, 1, 1, 1, 1, 1, 1], 'bandwidth_average': [1, 1, 1, 1, 1, 1, 1, 1, 1, 1], 'bandwidth_total': [1, 1, 1, 1, 1, 1, 1, 1, 1, 1], 'latency': [1, 1, 1, 1, 1, 1, 1, 1, 1, 1], 'detector_read_bw_average': [1, 1, 1, 1, 1, 1, 1, 1, 1, 1], 'detector_read_bw_total': [1, 1, 1, 1, 1, 1, 1, 1, 1, 1], 'detector_read_iops': [1, 1, 1, 1, 1, 1, 1, 1, 1, 1], 'detector_rw_read_bw_average': [1, 1, 1, 1, 1, 1, 1, 1, 1, 1], 'detector_rw_read_bw_total': [1, 1, 1, 1, 1, 1, 1, 1, 1, 1], 'detector_rw_write_bw_average': [1, 1, 1, 1, 1, 1, 1, 1, 1, 1], 'detector_rw_write_bw_total': [1, 1, 1, 1, 1, 1, 1, 1, 1, 1], 'detector_rw_iops': [1, 1, 1, 1, 1, 1, 1, 1, 1, 1]}), 'nsls2_bm_ssd': defaultdict(<function parse_benchmark_file.<locals>.<lambda> at 0x7ff7634df9e0>, {'n': [1, 1, 1, 1, 1, 1, 1, 1, 1, 1], 'iops_average': [1, 1, 1, 1, 1, 1, 1, 1, 1, 1], 'iops_total': [1, 1, 1, 1, 1, 1, 1, 1, 1, 1], 'bandwidth_average': [1, 1, 1, 1, 1, 1, 1, 1, 1, 1], 'bandwidth_total': [1, 1, 1, 1, 1, 1, 1, 1, 1, 1], 'latency': [1, 1, 1, 1, 1, 1, 1, 1, 1, 1], 'detector_read_bw_average': [1, 1, 1, 1, 1, 1, 1, 1, 1, 1], 'detector_read_bw_total': [1, 1, 1, 1, 1, 1, 1, 1, 1, 1], 'detector_read_iops': [1, 1, 1, 1, 1, 1, 1, 1, 1, 1], 'detector_rw_read_bw_average': [1, 1, 1, 1, 1, 1, 1, 1, 1, 1], 'detector_rw_read_bw_total': [1, 1, 1, 1, 1, 1, 1, 1, 1, 1], 'detector_rw_write_bw_average': [1, 1, 1, 1, 1, 1, 1, 1, 1, 1], 'detector_rw_write_bw_total': [1, 1, 1, 1, 1, 1, 1, 1, 1, 1], 'detector_rw_iops': [1, 1, 1, 1, 1, 1, 1, 1, 1, 1]}), 'nsls2_CENTRAL_nossd': defaultdict(<function parse_benchmark_file.<locals>.<lambda> at 0x7ff7634df5f0>, {'n': [1, 1, 1, 1, 1, 1, 1, 1, 1, 1], 'iops_average': [1, 1, 1, 1, 1, 1, 1, 1, 1, 1], 'iops_total': [1, 1, 1, 1, 1, 1, 1, 1, 1, 1], 'bandwidth_average': [1, 1, 1, 1, 1, 1, 1, 1, 1, 1], 'bandwidth_total': [1, 1, 1, 1, 1, 1, 1, 1, 1, 1], 'latency': [1, 1, 1, 1, 1, 1, 1, 1, 1, 1], 'detector_read_bw_average': [1, 1, 1, 1, 1, 1, 1, 1, 1, 1], 'detector_read_bw_total': [1, 1, 1, 1, 1, 1, 1, 1, 1, 1], 'detector_read_iops': [1, 1, 1, 1, 1, 1, 1, 1, 1, 1], 'detector_rw_read_bw_average': [1, 1, 1, 1, 1, 1, 1, 1, 1, 1], 'detector_rw_read_bw_total': [1, 1, 1, 1, 1, 1, 1, 1, 1, 1], 'detector_rw_write_bw_average': [1, 1, 1, 1, 1, 1, 1, 1, 1, 1], 'detector_rw_write_bw_total': [1, 1, 1, 1, 1, 1, 1, 1, 1, 1], 'detector_rw_iops': [1, 1, 1, 1, 1, 1, 1, 1, 1, 1]}), 'nsls2_CENTRAL_ssd': defaultdict(<function parse_benchmark_file.<locals>.<lambda> at 0x7ff7634df320>, {'n': [1, 1, 1, 1, 1, 1, 1, 1, 1, 1], 'iops_average': [1, 1, 1, 1, 1, 1, 1, 1, 1, 1], 'iops_total': [1, 1, 1, 1, 1, 1, 1, 1, 1, 1], 'bandwidth_average': [1, 1, 1, 1, 1, 1, 1, 1, 1, 1], 'bandwidth_total': [1, 1, 1, 1, 1, 1, 1, 1, 1, 1], 'latency': [1, 1, 1, 1, 1, 1, 1, 1, 1, 1], 'detector_read_bw_average': [1, 1, 1, 1, 1, 1, 1, 1, 1, 1], 'detector_read_bw_total': [1, 1, 1, 1, 1, 1, 1, 1, 1, 1], 'detector_read_iops': [1, 1, 1, 1, 1, 1, 1, 1, 1, 1], 'detector_rw_read_bw_average': [1, 1, 1, 1, 1, 1, 1, 1, 1, 1], 'detector_rw_read_bw_total': [1, 1, 1, 1, 1, 1, 1, 1, 1, 1], 'detector_rw_write_bw_average': [1, 1, 1, 1, 1, 1, 1, 1, 1, 1], 'detector_rw_write_bw_total': [1, 1, 1, 1, 1, 1, 1, 1, 1, 1], 'detector_rw_iops': [1, 1, 1, 1, 1, 1, 1, 1, 1, 1]})}\n"
     ]
    }
   ],
   "source": [
    "results = parse_benchmark_files(root, files)\n",
    "print(results)"
   ]
  },
  {
   "cell_type": "code",
   "execution_count": 18,
   "metadata": {},
   "outputs": [
    {
     "data": {
      "text/plain": [
       "dict_keys(['garrett_all_jobs', 'garrett_all_jobs_12nodes', 'nsls2_bm_nossd', 'nsls2_bm_nossd2', 'nsls2_bm_ssd', 'nsls2_CENTRAL_nossd', 'nsls2_CENTRAL_ssd'])"
      ]
     },
     "execution_count": 18,
     "metadata": {},
     "output_type": "execute_result"
    }
   ],
   "source": [
    "results.keys()"
   ]
  },
  {
   "cell_type": "code",
   "execution_count": 19,
   "metadata": {},
   "outputs": [
    {
     "data": {
      "text/plain": [
       "defaultdict(<function __main__.parse_benchmark_file.<locals>.<lambda>()>,\n",
       "            {'n': [1, 1, 1, 1, 1, 1, 1, 1, 1, 1],\n",
       "             'iops_average': [1, 1, 1, 1, 1, 1, 1, 1, 1, 1],\n",
       "             'iops_total': [1, 1, 1, 1, 1, 1, 1, 1, 1, 1],\n",
       "             'bandwidth_average': [1, 1, 1, 1, 1, 1, 1, 1, 1, 1],\n",
       "             'bandwidth_total': [1, 1, 1, 1, 1, 1, 1, 1, 1, 1],\n",
       "             'latency': [1, 1, 1, 1, 1, 1, 1, 1, 1, 1],\n",
       "             'detector_read_bw_average': [1, 1, 1, 1, 1, 1, 1, 1, 1, 1],\n",
       "             'detector_read_bw_total': [1, 1, 1, 1, 1, 1, 1, 1, 1, 1],\n",
       "             'detector_read_iops': [1, 1, 1, 1, 1, 1, 1, 1, 1, 1],\n",
       "             'detector_rw_read_bw_average': [1, 1, 1, 1, 1, 1, 1, 1, 1, 1],\n",
       "             'detector_rw_read_bw_total': [1, 1, 1, 1, 1, 1, 1, 1, 1, 1],\n",
       "             'detector_rw_write_bw_average': [1, 1, 1, 1, 1, 1, 1, 1, 1, 1],\n",
       "             'detector_rw_write_bw_total': [1, 1, 1, 1, 1, 1, 1, 1, 1, 1],\n",
       "             'detector_rw_iops': [1, 1, 1, 1, 1, 1, 1, 1, 1, 1]})"
      ]
     },
     "execution_count": 19,
     "metadata": {},
     "output_type": "execute_result"
    }
   ],
   "source": [
    "results['garrett_all_jobs']"
   ]
  },
  {
   "cell_type": "code",
   "execution_count": null,
   "metadata": {},
   "outputs": [],
   "source": []
  }
 ],
 "metadata": {
  "kernelspec": {
   "display_name": "Python 3",
   "language": "python",
   "name": "python3"
  },
  "language_info": {
   "codemirror_mode": {
    "name": "ipython",
    "version": 3
   },
   "file_extension": ".py",
   "mimetype": "text/x-python",
   "name": "python",
   "nbconvert_exporter": "python",
   "pygments_lexer": "ipython3",
   "version": "3.7.5"
  }
 },
 "nbformat": 4,
 "nbformat_minor": 2
}
